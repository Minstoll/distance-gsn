{
 "cells": [
  {
   "cell_type": "code",
   "execution_count": 5,
   "metadata": {},
   "outputs": [],
   "source": [
    "import json\n",
    "import numpy as np\n",
    "import torch\n",
    "from torch_geometric.data import Data\n",
    "import torch_geometric.datasets as datasets\n"
   ]
  },
  {
   "cell_type": "code",
   "execution_count": 6,
   "metadata": {},
   "outputs": [],
   "source": [
    "\n",
    "\n",
    "def get_resdist(graph: Data) -> np.ndarray:\n",
    "    \"\"\"\n",
    "    Compute the resistance distance matrix for a given graph using the formula in theorem E.3\n",
    "    of 'rethinking expressiveness via biconnectivity'\n",
    "    \"\"\"\n",
    "    n = graph.num_nodes\n",
    "\n",
    "    if n <= 1:\n",
    "        return np.zeros((n, n), dtype=float)\n",
    "\n",
    "    A = np.zeros((n, n), dtype=float)\n",
    "    edge_index = graph.edge_index\n",
    "    # If tensor, move to cpu and convert to numpy\n",
    "    if isinstance(edge_index, torch.Tensor):\n",
    "        edge_index = edge_index.detach().cpu().numpy()\n",
    "\n",
    "    for src, dst in edge_index.T:\n",
    "        A[src, dst] = 1\n",
    "        A[dst, src] = 1  # undirected\n",
    "\n",
    "    deg = A.sum(axis=1)\n",
    "    D = np.diag(deg)\n",
    "    L = D - A\n",
    "\n",
    "    ones_onesT = np.ones((n, n), dtype=float) / n\n",
    "    mat_to_invert = L + ones_onesT\n",
    "    M = np.linalg.inv(mat_to_invert)\n",
    "\n",
    "    diag_M = np.diag(M)  # shape (n,)\n",
    "    resdist = (diag_M[:, None] + diag_M[None, :]) - 2 * M\n",
    "    return np.sort(np.round(resdist, 5), axis=1)\n"
   ]
  },
  {
   "cell_type": "code",
   "execution_count": 8,
   "metadata": {},
   "outputs": [],
   "source": [
    "def convert_edge_index(edge_index_tensor):\n",
    "    \"\"\"Convert edge_index tensor to list of lists.\"\"\"\n",
    "    return edge_index_tensor.tolist()\n",
    "\n",
    "def convert_features(x_tensor):\n",
    "    \"\"\"Convert feature tensor to list.\"\"\"\n",
    "    return x_tensor.tolist()\n",
    "\n",
    "def convert_resdist(resdist_array):\n",
    "    \"\"\"Convert resdist numpy array to a dictionary with string keys.\"\"\"\n",
    "    resdist_dict = {}\n",
    "    for vertex_idx, row in enumerate(resdist_array):\n",
    "        resdist_dict[str(vertex_idx)] = row.tolist()\n",
    "    return resdist_dict\n",
    "\n",
    "def compute_resdist(data, output_file='_resdist.json'):\n",
    "    data_dict = {}\n",
    "    \n",
    "    for graph_idx, graph in enumerate(data):\n",
    "        graph_key = str(graph_idx)\n",
    "        \n",
    "        edge_index = convert_edge_index(graph.edge_index)\n",
    "        features = convert_features(graph.x)\n",
    "        \n",
    "        resdist = get_resdist(graph)\n",
    "        resdist_dict = convert_resdist(resdist)\n",
    "        \n",
    "        # Assemble graph data\n",
    "        data_dict[graph_key] = {\n",
    "            'edge_index': edge_index,\n",
    "            'features': features,\n",
    "            'resdist': resdist_dict\n",
    "        }\n",
    "        \n",
    "        if (graph_idx + 1) % 500 == 0:\n",
    "            print(f\"Processed {graph_idx + 1} graphs\")\n",
    "    \n",
    "    with open(output_file, 'w') as f:\n",
    "        json.dump(data_dict, f)\n",
    "\n",
    "    print(\"f\"Data successfully written to {output_file}\"\")\n",
    "\n",
    "    \n"
   ]
  },
  {
   "cell_type": "code",
   "execution_count": 2,
   "metadata": {},
   "outputs": [
    {
     "name": "stdout",
     "output_type": "stream",
     "text": [
      "12000\n",
      "Data(x=[29, 1], edge_index=[2, 64], edge_attr=[64], y=[1])\n",
      "Data(x=[26, 1], edge_index=[2, 56], edge_attr=[56], y=[1])\n",
      "Data(x=[16, 1], edge_index=[2, 34], edge_attr=[34], y=[1])\n",
      "Data(x=[27, 1], edge_index=[2, 60], edge_attr=[60], y=[1])\n",
      "Data(x=[21, 1], edge_index=[2, 44], edge_attr=[44], y=[1])\n"
     ]
    }
   ],
   "source": [
    "zinc_train = datasets.ZINC(\n",
    "    root=\"./data/\",\n",
    "    subset=True,\n",
    "    split=\"train\"\n",
    ")\n",
    "zinc_val = datasets.ZINC(\n",
    "    root=\"./data/\",\n",
    "    subset=True,\n",
    "    split=\"val\"\n",
    ")\n",
    "zinc_test = datasets.ZINC(\n",
    "    root=\"./data/\",\n",
    "    subset=True,\n",
    "    split=\"test\"\n",
    ")\n",
    "zinc_data = zinc_train + zinc_val + zinc_test\n",
    "print(len(zinc_data))\n",
    "i = 0\n",
    "for graph in zinc_data:\n",
    "    print(graph)\n",
    "    if i >= 4:\n",
    "        break\n",
    "    i += 1"
   ]
  },
  {
   "cell_type": "code",
   "execution_count": 22,
   "metadata": {},
   "outputs": [
    {
     "name": "stdout",
     "output_type": "stream",
     "text": [
      "Processed 500 graphs\n",
      "Processed 1000 graphs\n",
      "Processed 1500 graphs\n",
      "Processed 2000 graphs\n",
      "Processed 2500 graphs\n",
      "Processed 3000 graphs\n",
      "Processed 3500 graphs\n",
      "Processed 4000 graphs\n",
      "Processed 4500 graphs\n",
      "Processed 5000 graphs\n",
      "Processed 5500 graphs\n",
      "Processed 6000 graphs\n",
      "Processed 6500 graphs\n",
      "Processed 7000 graphs\n",
      "Processed 7500 graphs\n",
      "Processed 8000 graphs\n",
      "Processed 8500 graphs\n",
      "Processed 9000 graphs\n",
      "Processed 9500 graphs\n",
      "Processed 10000 graphs\n",
      "Processed 10500 graphs\n",
      "Processed 11000 graphs\n",
      "Processed 11500 graphs\n",
      "Processed 12000 graphs\n",
      "Data successfully written to zinc_resdist.json\n"
     ]
    }
   ],
   "source": [
    "compute_resdist(zinc_data, 'zinc_resdist.json')"
   ]
  },
  {
   "cell_type": "code",
   "execution_count": 11,
   "metadata": {},
   "outputs": [],
   "source": [
    "import pickle\n",
    "with open('biconn_dataset.pkl', 'rb') as f:\n",
    "    loaded_biconn_dataset = pickle.load(f)\n"
   ]
  },
  {
   "cell_type": "code",
   "execution_count": 12,
   "metadata": {},
   "outputs": [
    {
     "name": "stdout",
     "output_type": "stream",
     "text": [
      "Processed 500 graphs\n",
      "Processed 1000 graphs\n",
      "Data successfully written to biconn_resdist.json\n"
     ]
    }
   ],
   "source": [
    "compute_resdist(loaded_biconn_dataset, 'biconn_resdist.json')"
   ]
  }
 ],
 "metadata": {
  "kernelspec": {
   "display_name": ".venv",
   "language": "python",
   "name": "python3"
  },
  "language_info": {
   "codemirror_mode": {
    "name": "ipython",
    "version": 3
   },
   "file_extension": ".py",
   "mimetype": "text/x-python",
   "name": "python",
   "nbconvert_exporter": "python",
   "pygments_lexer": "ipython3",
   "version": "3.12.2"
  }
 },
 "nbformat": 4,
 "nbformat_minor": 2
}
